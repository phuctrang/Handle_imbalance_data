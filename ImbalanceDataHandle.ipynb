{
  "cells": [
    {
      "cell_type": "code",
      "execution_count": null,
      "metadata": {},
      "outputs": [],
      "source": [
        "\"\"\"\n",
        "Dự đoán khách hàng có rời bỏ dịch vụ hay không\n",
        "Sử dụng LogicticRegression\n",
        "+ 8000 row là chưa rời bỏ dịch vụ\n",
        "+ 2000 row là rời bỏ dịch vụ\n",
        "   => Data imbalence\n",
        "\n",
        "   ? Cần xử lý ./ \n",
        "   \n",
        "\"\"\""
      ]
    },
    {
      "cell_type": "code",
      "execution_count": 1,
      "metadata": {
        "id": "bx4A4MP-JizG"
      },
      "outputs": [],
      "source": [
        "# Import library\n",
        "import numpy as np\n",
        "import matplotlib.pyplot as plt\n",
        "import pandas as pd\n",
        "from sklearn.model_selection import train_test_split\n",
        "from sklearn.preprocessing import MinMaxScaler\n",
        "from sklearn.metrics import classification_report\n",
        "from sklearn.linear_model import LogisticRegression\n",
        "from sklearn.metrics import accuracy_score, precision_score, recall_score, f1_score\n",
        "# # Cài đặt \n",
        "# !pip install xgboost\n",
        "# !pip install imbalanced-learn"
      ]
    },
    {
      "cell_type": "code",
      "execution_count": 2,
      "metadata": {
        "colab": {
          "base_uri": "https://localhost:8080/",
          "height": 270
        },
        "id": "h4VGM2FFPYyP",
        "outputId": "423ac30d-7f4a-4738-b278-709e7ab660fa"
      },
      "outputs": [
        {
          "data": {
            "text/html": [
              "<div>\n",
              "<style scoped>\n",
              "    .dataframe tbody tr th:only-of-type {\n",
              "        vertical-align: middle;\n",
              "    }\n",
              "\n",
              "    .dataframe tbody tr th {\n",
              "        vertical-align: top;\n",
              "    }\n",
              "\n",
              "    .dataframe thead th {\n",
              "        text-align: right;\n",
              "    }\n",
              "</style>\n",
              "<table border=\"1\" class=\"dataframe\">\n",
              "  <thead>\n",
              "    <tr style=\"text-align: right;\">\n",
              "      <th></th>\n",
              "      <th>RowNumber</th>\n",
              "      <th>CustomerId</th>\n",
              "      <th>Surname</th>\n",
              "      <th>CreditScore</th>\n",
              "      <th>Geography</th>\n",
              "      <th>Gender</th>\n",
              "      <th>Age</th>\n",
              "      <th>Tenure</th>\n",
              "      <th>Balance</th>\n",
              "      <th>NumOfProducts</th>\n",
              "      <th>HasCrCard</th>\n",
              "      <th>IsActiveMember</th>\n",
              "      <th>EstimatedSalary</th>\n",
              "      <th>Exited</th>\n",
              "    </tr>\n",
              "  </thead>\n",
              "  <tbody>\n",
              "    <tr>\n",
              "      <th>0</th>\n",
              "      <td>1</td>\n",
              "      <td>15634602</td>\n",
              "      <td>Hargrave</td>\n",
              "      <td>619</td>\n",
              "      <td>France</td>\n",
              "      <td>Female</td>\n",
              "      <td>42</td>\n",
              "      <td>2</td>\n",
              "      <td>0.00</td>\n",
              "      <td>1</td>\n",
              "      <td>1</td>\n",
              "      <td>1</td>\n",
              "      <td>101348.88</td>\n",
              "      <td>1</td>\n",
              "    </tr>\n",
              "    <tr>\n",
              "      <th>1</th>\n",
              "      <td>2</td>\n",
              "      <td>15647311</td>\n",
              "      <td>Hill</td>\n",
              "      <td>608</td>\n",
              "      <td>Spain</td>\n",
              "      <td>Female</td>\n",
              "      <td>41</td>\n",
              "      <td>1</td>\n",
              "      <td>83807.86</td>\n",
              "      <td>1</td>\n",
              "      <td>0</td>\n",
              "      <td>1</td>\n",
              "      <td>112542.58</td>\n",
              "      <td>0</td>\n",
              "    </tr>\n",
              "    <tr>\n",
              "      <th>2</th>\n",
              "      <td>3</td>\n",
              "      <td>15619304</td>\n",
              "      <td>Onio</td>\n",
              "      <td>502</td>\n",
              "      <td>France</td>\n",
              "      <td>Female</td>\n",
              "      <td>42</td>\n",
              "      <td>8</td>\n",
              "      <td>159660.80</td>\n",
              "      <td>3</td>\n",
              "      <td>1</td>\n",
              "      <td>0</td>\n",
              "      <td>113931.57</td>\n",
              "      <td>1</td>\n",
              "    </tr>\n",
              "    <tr>\n",
              "      <th>3</th>\n",
              "      <td>4</td>\n",
              "      <td>15701354</td>\n",
              "      <td>Boni</td>\n",
              "      <td>699</td>\n",
              "      <td>France</td>\n",
              "      <td>Female</td>\n",
              "      <td>39</td>\n",
              "      <td>1</td>\n",
              "      <td>0.00</td>\n",
              "      <td>2</td>\n",
              "      <td>0</td>\n",
              "      <td>0</td>\n",
              "      <td>93826.63</td>\n",
              "      <td>0</td>\n",
              "    </tr>\n",
              "    <tr>\n",
              "      <th>4</th>\n",
              "      <td>5</td>\n",
              "      <td>15737888</td>\n",
              "      <td>Mitchell</td>\n",
              "      <td>850</td>\n",
              "      <td>Spain</td>\n",
              "      <td>Female</td>\n",
              "      <td>43</td>\n",
              "      <td>2</td>\n",
              "      <td>125510.82</td>\n",
              "      <td>1</td>\n",
              "      <td>1</td>\n",
              "      <td>1</td>\n",
              "      <td>79084.10</td>\n",
              "      <td>0</td>\n",
              "    </tr>\n",
              "  </tbody>\n",
              "</table>\n",
              "</div>"
            ],
            "text/plain": [
              "   RowNumber  CustomerId   Surname  CreditScore Geography  Gender  Age  \\\n",
              "0          1    15634602  Hargrave          619    France  Female   42   \n",
              "1          2    15647311      Hill          608     Spain  Female   41   \n",
              "2          3    15619304      Onio          502    France  Female   42   \n",
              "3          4    15701354      Boni          699    France  Female   39   \n",
              "4          5    15737888  Mitchell          850     Spain  Female   43   \n",
              "\n",
              "   Tenure    Balance  NumOfProducts  HasCrCard  IsActiveMember  \\\n",
              "0       2       0.00              1          1               1   \n",
              "1       1   83807.86              1          0               1   \n",
              "2       8  159660.80              3          1               0   \n",
              "3       1       0.00              2          0               0   \n",
              "4       2  125510.82              1          1               1   \n",
              "\n",
              "   EstimatedSalary  Exited  \n",
              "0        101348.88       1  \n",
              "1        112542.58       0  \n",
              "2        113931.57       1  \n",
              "3         93826.63       0  \n",
              "4         79084.10       0  "
            ]
          },
          "execution_count": 2,
          "metadata": {},
          "output_type": "execute_result"
        }
      ],
      "source": [
        "# Đọc dữ liệu từ file\n",
        "customer_data = pd.read_csv(\"Churn_Modelling.csv\")\n",
        "customer_data.head()"
      ]
    },
    {
      "cell_type": "code",
      "execution_count": 4,
      "metadata": {
        "colab": {
          "base_uri": "https://localhost:8080/",
          "height": 279
        },
        "id": "91E-WpFQP1RV",
        "outputId": "28cd5612-e604-41df-cfbc-712de7a7f677"
      },
      "outputs": [
        {
          "name": "stdout",
          "output_type": "stream",
          "text": [
            "0    7963\n",
            "1    2037\n",
            "Name: Exited, dtype: int64\n"
          ]
        },
        {
          "data": {
            "image/png": "[encoded data removed]",
            "text/plain": [
              "<Figure size 432x288 with 1 Axes>"
            ]
          },
          "metadata": {
            "needs_background": "light"
          },
          "output_type": "display_data"
        }
      ],
      "source": [
        "customer_data['Exited'].value_counts().plot(kind=\"bar\")\n",
        "print(customer_data['Exited'].value_counts())"
      ]
    },
    {
      "cell_type": "code",
      "execution_count": 5,
      "metadata": {
        "id": "TxGs0om5QEfN"
      },
      "outputs": [],
      "source": [
        "# Train nhu binh thuong\n",
        "# không liên quan đến việc training models./\n",
        "dataset = customer_data.drop([\"RowNumber\",\"Surname\",\"CustomerId\"], axis=1)"
      ]
    },
    {
      "cell_type": "code",
      "execution_count": 7,
      "metadata": {
        "id": "Ky470aqpQSoD"
      },
      "outputs": [
        {
          "data": {
            "text/html": [
              "<div>\n",
              "<style scoped>\n",
              "    .dataframe tbody tr th:only-of-type {\n",
              "        vertical-align: middle;\n",
              "    }\n",
              "\n",
              "    .dataframe tbody tr th {\n",
              "        vertical-align: top;\n",
              "    }\n",
              "\n",
              "    .dataframe thead th {\n",
              "        text-align: right;\n",
              "    }\n",
              "</style>\n",
              "<table border=\"1\" class=\"dataframe\">\n",
              "  <thead>\n",
              "    <tr style=\"text-align: right;\">\n",
              "      <th></th>\n",
              "      <th>CreditScore</th>\n",
              "      <th>Age</th>\n",
              "      <th>Tenure</th>\n",
              "      <th>Balance</th>\n",
              "      <th>NumOfProducts</th>\n",
              "      <th>HasCrCard</th>\n",
              "      <th>IsActiveMember</th>\n",
              "      <th>EstimatedSalary</th>\n",
              "      <th>Geography_Germany</th>\n",
              "      <th>Geography_Spain</th>\n",
              "      <th>Gender_Male</th>\n",
              "    </tr>\n",
              "  </thead>\n",
              "  <tbody>\n",
              "    <tr>\n",
              "      <th>9254</th>\n",
              "      <td>0.672</td>\n",
              "      <td>0.189189</td>\n",
              "      <td>0.6</td>\n",
              "      <td>0.000000</td>\n",
              "      <td>0.333333</td>\n",
              "      <td>1</td>\n",
              "      <td>1</td>\n",
              "      <td>0.895550</td>\n",
              "      <td>0</td>\n",
              "      <td>0</td>\n",
              "      <td>1</td>\n",
              "    </tr>\n",
              "    <tr>\n",
              "      <th>1561</th>\n",
              "      <td>0.564</td>\n",
              "      <td>0.324324</td>\n",
              "      <td>0.4</td>\n",
              "      <td>0.476786</td>\n",
              "      <td>0.333333</td>\n",
              "      <td>1</td>\n",
              "      <td>1</td>\n",
              "      <td>0.980029</td>\n",
              "      <td>1</td>\n",
              "      <td>0</td>\n",
              "      <td>1</td>\n",
              "    </tr>\n",
              "    <tr>\n",
              "      <th>1670</th>\n",
              "      <td>0.418</td>\n",
              "      <td>0.081081</td>\n",
              "      <td>0.3</td>\n",
              "      <td>0.457317</td>\n",
              "      <td>0.000000</td>\n",
              "      <td>1</td>\n",
              "      <td>0</td>\n",
              "      <td>0.429261</td>\n",
              "      <td>0</td>\n",
              "      <td>1</td>\n",
              "      <td>1</td>\n",
              "    </tr>\n",
              "    <tr>\n",
              "      <th>6087</th>\n",
              "      <td>0.422</td>\n",
              "      <td>0.121622</td>\n",
              "      <td>0.9</td>\n",
              "      <td>0.540606</td>\n",
              "      <td>0.000000</td>\n",
              "      <td>1</td>\n",
              "      <td>0</td>\n",
              "      <td>0.765408</td>\n",
              "      <td>0</td>\n",
              "      <td>0</td>\n",
              "      <td>0</td>\n",
              "    </tr>\n",
              "    <tr>\n",
              "      <th>6669</th>\n",
              "      <td>0.334</td>\n",
              "      <td>0.513514</td>\n",
              "      <td>0.9</td>\n",
              "      <td>0.566554</td>\n",
              "      <td>0.000000</td>\n",
              "      <td>0</td>\n",
              "      <td>0</td>\n",
              "      <td>0.197107</td>\n",
              "      <td>0</td>\n",
              "      <td>0</td>\n",
              "      <td>1</td>\n",
              "    </tr>\n",
              "  </tbody>\n",
              "</table>\n",
              "</div>"
            ],
            "text/plain": [
              "      CreditScore       Age  Tenure   Balance  NumOfProducts  HasCrCard  \\\n",
              "9254        0.672  0.189189     0.6  0.000000       0.333333          1   \n",
              "1561        0.564  0.324324     0.4  0.476786       0.333333          1   \n",
              "1670        0.418  0.081081     0.3  0.457317       0.000000          1   \n",
              "6087        0.422  0.121622     0.9  0.540606       0.000000          1   \n",
              "6669        0.334  0.513514     0.9  0.566554       0.000000          0   \n",
              "\n",
              "      IsActiveMember  EstimatedSalary  Geography_Germany  Geography_Spain  \\\n",
              "9254               1         0.895550                  0                0   \n",
              "1561               1         0.980029                  1                0   \n",
              "1670               0         0.429261                  0                1   \n",
              "6087               0         0.765408                  0                0   \n",
              "6669               0         0.197107                  0                0   \n",
              "\n",
              "      Gender_Male  \n",
              "9254            1  \n",
              "1561            1  \n",
              "1670            1  \n",
              "6087            0  \n",
              "6669            1  "
            ]
          },
          "execution_count": 7,
          "metadata": {},
          "output_type": "execute_result"
        }
      ],
      "source": [
        "# Tao ra onehot\n",
        "# các dữ liệu bằng chữ như male, female =>  model không hiểu \n",
        "# Convert sang dạng số: 0-male; 1-female\n",
        "\n",
        "# Áp dụng cho toàn bộ dataset\n",
        "dataset_dummy = pd.get_dummies(dataset,drop_first=True)\n",
        "\n",
        "\n",
        "# Data target\n",
        "y = dataset_dummy['Exited']\n",
        "# Data train thì xóa cột target (Exited)\n",
        "X = dataset_dummy.drop([\"Exited\"],axis=1)\n",
        "\n",
        "\n",
        "\n",
        "X_train, X_test, y_train, y_test = train_test_split(X, y , test_size = 0.2, random_state=42)\n",
        "\n",
        "# Đưa data về khoảng 0 đến 1 | models hội tụ nhanh hơn\n",
        "scaler = MinMaxScaler()\n",
        "scaler.fit(X_train[['CreditScore','Age','Tenure','Balance','NumOfProducts','EstimatedSalary']])\n",
        "X_train[['CreditScore','Age','Tenure','Balance','NumOfProducts','EstimatedSalary']]= scaler.transform(X_train[['CreditScore','Age','Tenure','Balance','NumOfProducts','EstimatedSalary']])\n",
        "X_test[['CreditScore','Age','Tenure','Balance','NumOfProducts','EstimatedSalary']] = scaler.transform(X_test[['CreditScore','Age','Tenure','Balance','NumOfProducts','EstimatedSalary']])\n",
        "\n",
        "\n",
        "#Performance evaluation\n",
        "def print_scores(y_true, y_pred):\n",
        "  print(classification_report(y_true, y_pred))\n",
        "\n",
        "X_train.head()\n"
      ]
    },
    {
      "cell_type": "code",
      "execution_count": 8,
      "metadata": {
        "colab": {
          "base_uri": "https://localhost:8080/"
        },
        "id": "Pldp0aMxRVJK",
        "outputId": "ae51c7e6-4af4-46c5-cf55-b89f85f43a74"
      },
      "outputs": [
        {
          "name": "stdout",
          "output_type": "stream",
          "text": [
            "              precision    recall  f1-score   support\n",
            "\n",
            "           0       0.83      0.96      0.89      1607\n",
            "           1       0.57      0.19      0.29       393\n",
            "\n",
            "    accuracy                           0.81      2000\n",
            "   macro avg       0.70      0.58      0.59      2000\n",
            "weighted avg       0.78      0.81      0.77      2000\n",
            "\n"
          ]
        }
      ],
      "source": [
        "# Train model voi imabalance data\n",
        "\n",
        "# Khoi tao\n",
        "model = LogisticRegression() \n",
        "\n",
        "# Fit voi du lieu trian\n",
        "model.fit(X_train, y_train)\n",
        "\n",
        "# Du doan du lieu test\n",
        "y_pred = model.predict(X_test)\n",
        "\n",
        "# in ra ket qua\n",
        "print_scores( y_test, y_pred)\n",
        "\n",
        "\n",
        "\"\"\"\n",
        "+ Các thông số precision, recall, f1-score của lớp 0 thì ổn\n",
        "+ Các thông số precision, recall, f1-score của lớp 1 thì rất thấp: chỉ đoán được 19% (recall) số lượng khách rời bỏ dịch vụ \n",
        "\"\"\"\n"
      ]
    },
    {
      "cell_type": "code",
      "execution_count": 9,
      "metadata": {
        "colab": {
          "base_uri": "https://localhost:8080/"
        },
        "id": "Jcjh0fCNRtWb",
        "outputId": "006074dc-19be-48ab-dcd5-cbca395b1bdb"
      },
      "outputs": [
        {
          "name": "stdout",
          "output_type": "stream",
          "text": [
            "              precision    recall  f1-score   support\n",
            "\n",
            "           0       0.91      0.72      0.80      1607\n",
            "           1       0.38      0.71      0.50       393\n",
            "\n",
            "    accuracy                           0.72      2000\n",
            "   macro avg       0.65      0.72      0.65      2000\n",
            "weighted avg       0.81      0.72      0.74      2000\n",
            "\n"
          ]
        }
      ],
      "source": [
        "\"\"\"\n",
        "+ Sử dụng class-weights: 0,29 > 0,50\n",
        "\"\"\"\n",
        "# Train model voi imabalance data\n",
        "\n",
        "# Khoi tao\n",
        "model = LogisticRegression(class_weight=\"balanced\") \n",
        "\n",
        "# Fit voi du lieu trian\n",
        "model.fit(X_train, y_train)\n",
        "\n",
        "# Du doan du lieu test\n",
        "y_pred = model.predict(X_test)\n",
        "\n",
        "# in ra ket qua\n",
        "print_scores( y_test, y_pred)\n"
      ]
    },
    {
      "cell_type": "code",
      "execution_count": 10,
      "metadata": {
        "colab": {
          "base_uri": "https://localhost:8080/"
        },
        "id": "jGyyxmDJR-3X",
        "outputId": "bb11b1fd-5f29-47fa-a145-b3b7da43ab8e"
      },
      "outputs": [
        {
          "name": "stdout",
          "output_type": "stream",
          "text": [
            "              precision    recall  f1-score   support\n",
            "\n",
            "           0       0.88      0.97      0.92      1607\n",
            "           1       0.78      0.48      0.59       393\n",
            "\n",
            "    accuracy                           0.87      2000\n",
            "   macro avg       0.83      0.72      0.76      2000\n",
            "weighted avg       0.86      0.87      0.86      2000\n",
            "\n"
          ]
        }
      ],
      "source": [
        "\"\"\"\n",
        "Ensemble & Boosting\n",
        "\n",
        "+ Random Forest\n",
        "\n",
        "\"\"\"\n",
        "# Random Forest \n",
        "from sklearn.ensemble import RandomForestClassifier\n",
        "\n",
        "# Khoi tao model random forest (n_estimators: số cây)\n",
        "\n",
        "model_RFC = RandomForestClassifier(n_estimators=200, random_state=42) \n",
        "\n",
        "# Fit vao du lieu train\n",
        "model_RFC.fit(X_train, y_train)\n",
        "\n",
        "# Du doan \n",
        "y_pred = model_RFC.predict(X_test)\n",
        "\n",
        "# In ket qua\n",
        "print_scores( y_test, y_pred)"
      ]
    },
    {
      "cell_type": "code",
      "execution_count": 11,
      "metadata": {
        "colab": {
          "base_uri": "https://localhost:8080/"
        },
        "id": "xgz0PrxcSVIg",
        "outputId": "4266762d-b91a-489c-9209-c2908cb9a622"
      },
      "outputs": [
        {
          "name": "stdout",
          "output_type": "stream",
          "text": [
            "              precision    recall  f1-score   support\n",
            "\n",
            "           0       0.86      0.98      0.92      1607\n",
            "           1       0.84      0.33      0.48       393\n",
            "\n",
            "    accuracy                           0.86      2000\n",
            "   macro avg       0.85      0.66      0.70      2000\n",
            "weighted avg       0.85      0.86      0.83      2000\n",
            "\n"
          ]
        }
      ],
      "source": [
        "\"\"\"\n",
        "Ensemble & Boosting\n",
        "\n",
        "+ GradientBoosting\n",
        "\n",
        "\"\"\"\n",
        "from sklearn.ensemble import GradientBoostingClassifier\n",
        "\n",
        "model = GradientBoostingClassifier(learning_rate=0.01, random_state=42,n_estimators=200)\n",
        "model.fit(X_train, y_train)\n",
        "\n",
        "y_pred = model.predict(X_test)\n",
        "\n",
        "print_scores( y_test, y_pred)"
      ]
    },
    {
      "cell_type": "code",
      "execution_count": 12,
      "metadata": {
        "colab": {
          "base_uri": "https://localhost:8080/"
        },
        "id": "yK--Pk8lSbvl",
        "outputId": "3255e78e-c7ab-4b43-ce0a-a4d1a011f6b1"
      },
      "outputs": [
        {
          "name": "stdout",
          "output_type": "stream",
          "text": [
            "              precision    recall  f1-score   support\n",
            "\n",
            "           0       0.86      0.98      0.92      1607\n",
            "           1       0.84      0.33      0.48       393\n",
            "\n",
            "    accuracy                           0.86      2000\n",
            "   macro avg       0.85      0.66      0.70      2000\n",
            "weighted avg       0.85      0.86      0.83      2000\n",
            "\n"
          ]
        }
      ],
      "source": [
        "\"\"\"\n",
        "Ensemble & Boosting\n",
        "\n",
        "+ xgboost\n",
        "\n",
        "\"\"\"\n",
        "import xgboost as xgb\n",
        "\n",
        "model_xgb = xgb.XGBClassifier(random_state=42, n_estimators = 200)\n",
        "model_xgb.fit(X_train, y_train)\n",
        "\n",
        "\n",
        "y_pred = model.predict(X_test)\n",
        "print_scores( y_test, y_pred)\n",
        "\n"
      ]
    },
    {
      "cell_type": "code",
      "execution_count": 13,
      "metadata": {
        "colab": {
          "base_uri": "https://localhost:8080/"
        },
        "id": "6Snh-9FjSlvL",
        "outputId": "a678a9fc-9f5b-464d-f882-f5c8f3b4310f"
      },
      "outputs": [
        {
          "data": {
            "text/plain": [
              "0    7963\n",
              "1    2037\n",
              "Name: Exited, dtype: int64"
            ]
          },
          "execution_count": 13,
          "metadata": {},
          "output_type": "execute_result"
        }
      ],
      "source": [
        "dataset[\"Exited\"].value_counts()"
      ]
    },
    {
      "cell_type": "code",
      "execution_count": 14,
      "metadata": {
        "colab": {
          "base_uri": "https://localhost:8080/"
        },
        "id": "YOls5qUpSxPR",
        "outputId": "95117941-6fc3-4bc6-e20a-aa314a547540"
      },
      "outputs": [
        {
          "data": {
            "text/plain": [
              "((7963, 11), (2037, 11))"
            ]
          },
          "execution_count": 14,
          "metadata": {},
          "output_type": "execute_result"
        }
      ],
      "source": [
        "dataset_0 = dataset[dataset.Exited==0]\n",
        "dataset_1 = dataset[dataset.Exited==1]\n",
        "dataset_0.shape, dataset_1.shape"
      ]
    },
    {
      "cell_type": "code",
      "execution_count": 17,
      "metadata": {
        "colab": {
          "base_uri": "https://localhost:8080/"
        },
        "id": "_Ah19ZtcTB-m",
        "outputId": "8746af9f-a0d6-4fff-c23c-7c80779d7c27"
      },
      "outputs": [
        {
          "data": {
            "text/plain": [
              "(2037, 11)"
            ]
          },
          "execution_count": 17,
          "metadata": {},
          "output_type": "execute_result"
        }
      ],
      "source": [
        "\"\"\"\n",
        "\n",
        "+ Giảm dataset_0 về bằng với dataset_1\n",
        "+ Rus (Random under sampling)\n",
        "+ sample(size): lấy ngẫu nhiên với size \n",
        "\"\"\"\n",
        "size = dataset_1.shape[0]\n",
        "dataset_0_rus = dataset_0.sample(size)\n",
        "dataset_0_rus.shape"
      ]
    },
    {
      "cell_type": "code",
      "execution_count": 18,
      "metadata": {
        "colab": {
          "base_uri": "https://localhost:8080/"
        },
        "id": "ZQMMVnVTTO1c",
        "outputId": "0cb5c224-e880-48ea-c7d3-bd648b073536"
      },
      "outputs": [
        {
          "data": {
            "text/plain": [
              "(4074, 11)"
            ]
          },
          "execution_count": 18,
          "metadata": {},
          "output_type": "execute_result"
        }
      ],
      "source": [
        "\"\"\"\n",
        "+ Nối lại 2 tập data bằng size - 2037 (0 và 1)\n",
        "\n",
        "\"\"\"\n",
        "dataset_random_under = pd.concat([dataset_0_rus,dataset_1])\n",
        "dataset_random_under.shape"
      ]
    },
    {
      "cell_type": "code",
      "execution_count": 19,
      "metadata": {
        "colab": {
          "base_uri": "https://localhost:8080/"
        },
        "id": "hPsDHDESTbPF",
        "outputId": "a26d7296-ccb3-442b-b60f-cc287caae575"
      },
      "outputs": [
        {
          "name": "stdout",
          "output_type": "stream",
          "text": [
            "              precision    recall  f1-score   support\n",
            "\n",
            "           0       0.75      0.72      0.73       443\n",
            "           1       0.68      0.71      0.70       372\n",
            "\n",
            "    accuracy                           0.72       815\n",
            "   macro avg       0.71      0.72      0.71       815\n",
            "weighted avg       0.72      0.72      0.72       815\n",
            "\n"
          ]
        }
      ],
      "source": [
        "# Như cũ\n",
        "dataset_dummy = pd.get_dummies(dataset_random_under,drop_first=True)\n",
        "\n",
        "X = dataset_dummy.drop([\"Exited\"],axis=1)\n",
        "y = dataset_dummy['Exited']\n",
        "\n",
        "X_train, X_test, y_train, y_test = train_test_split(X, y , test_size = 0.2, random_state=42)\n",
        "\n",
        "scaler = MinMaxScaler()\n",
        "scaler.fit(X_train[['CreditScore','Age','Tenure','Balance','NumOfProducts','EstimatedSalary']])\n",
        "X_train[['CreditScore','Age','Tenure','Balance','NumOfProducts','EstimatedSalary']]= scaler.transform(X_train[['CreditScore','Age','Tenure','Balance','NumOfProducts','EstimatedSalary']])\n",
        "X_test[['CreditScore','Age','Tenure','Balance','NumOfProducts','EstimatedSalary']] = scaler.transform(X_test[['CreditScore','Age','Tenure','Balance','NumOfProducts','EstimatedSalary']])\n",
        "\n",
        "\n",
        "model = LogisticRegression() #Instantiating the algorithm class and unpacking parameters if any\n",
        "model.fit(X_train, y_train)\n",
        "y_pred = model.predict(X_test)\n",
        "\n",
        "print_scores( y_test, y_pred)\n"
      ]
    },
    {
      "cell_type": "code",
      "execution_count": 20,
      "metadata": {
        "colab": {
          "base_uri": "https://localhost:8080/"
        },
        "id": "J-N8xBmIToFW",
        "outputId": "55a77e61-6811-491c-d1b2-2f46ecfc583a"
      },
      "outputs": [
        {
          "data": {
            "text/plain": [
              "((4074, 11), (4074,))"
            ]
          },
          "execution_count": 20,
          "metadata": {},
          "output_type": "execute_result"
        }
      ],
      "source": [
        "# NearMiss\n",
        "# Near Miss\n",
        "\"\"\"\n",
        "NearMiss tự động undersampling :))\n",
        "> Quá nhanh \n",
        "\n",
        "\"\"\"\n",
        "\n",
        "dataset_dummy = pd.get_dummies(dataset,drop_first=True)\n",
        "\n",
        "X = dataset_dummy.drop([\"Exited\"],axis=1)\n",
        "y = dataset_dummy['Exited']\n",
        "\n",
        "\n",
        "from imblearn.under_sampling import NearMiss\n",
        "nm = NearMiss()\n",
        "\n",
        "X_res, y_res = nm.fit_resample(X,y)\n",
        "X_res.shape, y_res.shape"
      ]
    },
    {
      "cell_type": "code",
      "execution_count": 21,
      "metadata": {
        "colab": {
          "base_uri": "https://localhost:8080/"
        },
        "id": "VT5YkpCGT7dv",
        "outputId": "0333cf03-a12d-4ff2-aee7-e84c75154843"
      },
      "outputs": [
        {
          "name": "stdout",
          "output_type": "stream",
          "text": [
            "              precision    recall  f1-score   support\n",
            "\n",
            "           0       0.85      0.97      0.91       443\n",
            "           1       0.96      0.80      0.87       372\n",
            "\n",
            "    accuracy                           0.89       815\n",
            "   macro avg       0.90      0.88      0.89       815\n",
            "weighted avg       0.90      0.89      0.89       815\n",
            "\n"
          ]
        }
      ],
      "source": [
        "\n",
        "X_train, X_test, y_train, y_test = train_test_split(X_res, y_res, test_size = 0.2, random_state=42)\n",
        "\n",
        "scaler = MinMaxScaler()\n",
        "scaler.fit(X_train[['CreditScore','Age','Tenure','Balance','NumOfProducts','EstimatedSalary']])\n",
        "X_train[['CreditScore','Age','Tenure','Balance','NumOfProducts','EstimatedSalary']]= scaler.transform(X_train[['CreditScore','Age','Tenure','Balance','NumOfProducts','EstimatedSalary']])\n",
        "X_test[['CreditScore','Age','Tenure','Balance','NumOfProducts','EstimatedSalary']] = scaler.transform(X_test[['CreditScore','Age','Tenure','Balance','NumOfProducts','EstimatedSalary']])\n",
        "\n",
        "\n",
        "model = LogisticRegression() #Instantiating the algorithm class and unpacking parameters if any\n",
        "model.fit(X_train, y_train)\n",
        "y_pred = model.predict(X_test)\n",
        "\n",
        "print_scores( y_test, y_pred)"
      ]
    },
    {
      "cell_type": "code",
      "execution_count": 22,
      "metadata": {
        "colab": {
          "base_uri": "https://localhost:8080/"
        },
        "id": "AEYEOczpUDqv",
        "outputId": "e3884388-8f16-4d39-b821-034e99228ed0"
      },
      "outputs": [
        {
          "data": {
            "text/plain": [
              "((15926, 11), (15926,))"
            ]
          },
          "execution_count": 22,
          "metadata": {},
          "output_type": "execute_result"
        }
      ],
      "source": [
        "# Random Oversampling\n",
        "\"\"\"\n",
        "+ Sinh dữ liệu từ lớp thiểu số để bằng với lớp lớn\n",
        "+ data 0: 7963\n",
        "fit_resample\n",
        "\"\"\"\n",
        "from imblearn.over_sampling import RandomOverSampler\n",
        "ros = RandomOverSampler()\n",
        "\n",
        "dataset_dummy = pd.get_dummies(dataset,drop_first=True)\n",
        "\n",
        "X = dataset_dummy.drop([\"Exited\"],axis=1)\n",
        "y = dataset_dummy['Exited']\n",
        "\n",
        "X_ros, y_ros = ros.fit_resample(X,y)\n",
        "X_ros.shape, y_ros.shape\n"
      ]
    },
    {
      "cell_type": "code",
      "execution_count": 23,
      "metadata": {
        "colab": {
          "base_uri": "https://localhost:8080/"
        },
        "id": "QirwBULDUtmH",
        "outputId": "defa74a3-dfec-45b6-89f9-a10093b6570b"
      },
      "outputs": [
        {
          "name": "stdout",
          "output_type": "stream",
          "text": [
            "              precision    recall  f1-score   support\n",
            "\n",
            "           0       0.72      0.71      0.71      1633\n",
            "           1       0.70      0.71      0.70      1553\n",
            "\n",
            "    accuracy                           0.71      3186\n",
            "   macro avg       0.71      0.71      0.71      3186\n",
            "weighted avg       0.71      0.71      0.71      3186\n",
            "\n"
          ]
        }
      ],
      "source": [
        "\n",
        "X_train, X_test, y_train, y_test = train_test_split(X_ros, y_ros, test_size = 0.2, random_state=42)\n",
        "\n",
        "scaler = MinMaxScaler()\n",
        "scaler.fit(X_train[['CreditScore','Age','Tenure','Balance','NumOfProducts','EstimatedSalary']])\n",
        "X_train[['CreditScore','Age','Tenure','Balance','NumOfProducts','EstimatedSalary']]= scaler.transform(X_train[['CreditScore','Age','Tenure','Balance','NumOfProducts','EstimatedSalary']])\n",
        "X_test[['CreditScore','Age','Tenure','Balance','NumOfProducts','EstimatedSalary']] = scaler.transform(X_test[['CreditScore','Age','Tenure','Balance','NumOfProducts','EstimatedSalary']])\n",
        "\n",
        "\n",
        "model = LogisticRegression() #Instantiating the algorithm class and unpacking parameters if any\n",
        "model.fit(X_train, y_train)\n",
        "y_pred = model.predict(X_test)\n",
        "\n",
        "print_scores( y_test, y_pred)"
      ]
    },
    {
      "cell_type": "code",
      "execution_count": null,
      "metadata": {},
      "outputs": [],
      "source": [
        "\"\"\"\n",
        "Nearmiss có kết quả tốt hơn OverSampling\n",
        "\n",
        "\"\"\""
      ]
    },
    {
      "cell_type": "code",
      "execution_count": 24,
      "metadata": {
        "colab": {
          "base_uri": "https://localhost:8080/"
        },
        "id": "KZz6yJVtU1da",
        "outputId": "cc669fc1-32bc-4987-a6c9-b6996c500a25"
      },
      "outputs": [
        {
          "data": {
            "text/plain": [
              "((15926, 11), (15926,))"
            ]
          },
          "execution_count": 24,
          "metadata": {},
          "output_type": "execute_result"
        }
      ],
      "source": [
        "# SMOTE\n",
        "\"\"\"\n",
        "Sinh data./\n",
        "\"\"\"\n",
        "from imblearn.over_sampling import SMOTE\n",
        "\n",
        "sm = SMOTE()\n",
        "\n",
        "dataset_dummy = pd.get_dummies(dataset,drop_first=True)\n",
        "\n",
        "X = dataset_dummy.drop([\"Exited\"],axis=1)\n",
        "y = dataset_dummy['Exited']\n",
        "\n",
        "X_sm, y_sm = sm.fit_resample(X, y)\n",
        "X_sm.shape, y_sm.shape\n"
      ]
    },
    {
      "cell_type": "code",
      "execution_count": 25,
      "metadata": {
        "colab": {
          "base_uri": "https://localhost:8080/"
        },
        "id": "E8bkocCEVIPi",
        "outputId": "656687ba-9d49-4860-df13-479a25e847aa"
      },
      "outputs": [
        {
          "name": "stdout",
          "output_type": "stream",
          "text": [
            "              precision    recall  f1-score   support\n",
            "\n",
            "           0       0.80      0.77      0.79      1633\n",
            "           1       0.77      0.80      0.79      1553\n",
            "\n",
            "    accuracy                           0.79      3186\n",
            "   macro avg       0.79      0.79      0.79      3186\n",
            "weighted avg       0.79      0.79      0.79      3186\n",
            "\n"
          ]
        }
      ],
      "source": [
        "\n",
        "X_train, X_test, y_train, y_test = train_test_split(X_sm, y_sm, test_size = 0.2, random_state=42)\n",
        "\n",
        "scaler = MinMaxScaler()\n",
        "scaler.fit(X_train[['CreditScore','Age','Tenure','Balance','NumOfProducts','EstimatedSalary']])\n",
        "X_train[['CreditScore','Age','Tenure','Balance','NumOfProducts','EstimatedSalary']]= scaler.transform(X_train[['CreditScore','Age','Tenure','Balance','NumOfProducts','EstimatedSalary']])\n",
        "X_test[['CreditScore','Age','Tenure','Balance','NumOfProducts','EstimatedSalary']] = scaler.transform(X_test[['CreditScore','Age','Tenure','Balance','NumOfProducts','EstimatedSalary']])\n",
        "\n",
        "\n",
        "model = LogisticRegression() #Instantiating the algorithm class and unpacking parameters if any\n",
        "model.fit(X_train, y_train)\n",
        "y_pred = model.predict(X_test)\n",
        "\n",
        "print_scores( y_test, y_pred)"
      ]
    },
    {
      "cell_type": "code",
      "execution_count": null,
      "metadata": {},
      "outputs": [],
      "source": [
        "\"\"\"\n",
        "Kết luận: Tùy vào bài toán mà ta dùng các kĩ thuật khác nhau\n",
        "\n",
        ">>>> Ở bài này: NearMiss sẽ mang lại kết quả tốt nhất, nhưng đối với bài toán khác thì NM chưa chắc tốt đâu :v \n",
        "\"\"\""
      ]
    }
  ],
  "metadata": {
    "colab": {
      "name": "Untitled0.ipynb",
      "provenance": []
    },
    "kernelspec": {
      "display_name": "Python 3.9.12 ('base')",
      "language": "python",
      "name": "python3"
    },
    "language_info": {
      "codemirror_mode": {
        "name": "ipython",
        "version": 3
      },
      "file_extension": ".py",
      "mimetype": "text/x-python",
      "name": "python",
      "nbconvert_exporter": "python",
      "pygments_lexer": "ipython3",
      "version": "3.9.12"
    },
    "vscode": {
      "interpreter": {
        "hash": "ad2bdc8ecc057115af97d19610ffacc2b4e99fae6737bb82f5d7fb13d2f2c186"
      }
    }
  },
  "nbformat": 4,
  "nbformat_minor": 0
}
